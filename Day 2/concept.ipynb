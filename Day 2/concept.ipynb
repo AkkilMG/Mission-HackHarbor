{
 "cells": [
  {
   "cell_type": "markdown",
   "metadata": {},
   "source": [
    "## Numpy"
   ]
  },
  {
   "cell_type": "code",
   "execution_count": 2,
   "metadata": {},
   "outputs": [],
   "source": [
    "\n",
    "import numpy as np\n",
    "\n",
    "arr_1d = np.array([1, 2, 3, 4, 5])\n",
    "arr_2d = np.array([[1, 2, 3], [4, 5, 6], [7, 8, 9]])\n",
    "\n",
    "arr = np.arange(9)\n",
    "mean_val = np.mean(arr) \n",
    "max_val = np.max(arr) \n",
    "min_val = np.min(arr)  \n",
    "std_dev = np.std(arr)   \n",
    "\n",
    "matrix_product = np.dot(arr_2d, arr_2d) \n",
    "transpose_matrix = np.transpose(arr_2d)\n",
    "\n",
    "random_arr = np.random.rand(3, 3)\n",
    "rand_int = np.random.randint(1, 10) \n"
   ]
  },
  {
   "cell_type": "markdown",
   "metadata": {},
   "source": [
    "## Pandas"
   ]
  },
  {
   "cell_type": "code",
   "execution_count": null,
   "metadata": {},
   "outputs": [],
   "source": [
    "import pandas as pd\n",
    "\n",
    "\n",
    "data = pd.read_csv('data.csv')\n",
    "\n",
    "print(data.head())  \n",
    "\n",
    "data['Percentage'] =( (data['Student1'] + data['Student2'] + data['Student3'] + data['Student4'] + data['Student5'])/500)*100\n",
    "\n",
    "filtered_data = data[data['Column_C'] > 50] \n",
    "\n",
    "# Removing duplicates\n",
    "unique_data = data.drop_duplicates()\n"
   ]
  },
  {
   "cell_type": "code",
   "execution_count": 1,
   "metadata": {},
   "outputs": [],
   "source": [
    "import csv\n",
    "import random\n",
    "\n",
    "# Sample student names\n",
    "student_names = ['Alice', 'Bob', 'Charlie', 'David', 'Emma', 'Frank', 'Grace', 'Hannah', 'Ivan', 'Julia']\n",
    "\n",
    "# Generating random marks for each student in 5 subjects\n",
    "data = []\n",
    "for name in student_names:\n",
    "    marks = [random.randint(50, 100) for _ in range(5)]  # Generating 5 random marks between 50 and 100\n",
    "    row = [name] + marks\n",
    "    data.append(row)\n",
    "\n",
    "# Writing data to a CSV file\n",
    "with open('data.csv', 'w', newline='') as file:\n",
    "    writer = csv.writer(file)\n",
    "    # Writing header\n",
    "    writer.writerow(['Name', 'Subject1', 'Subject2', 'Subject3', 'Subject4', 'Subject5'])\n",
    "    # Writing student data\n",
    "    writer.writerows(data)\n"
   ]
  },
  {
   "cell_type": "markdown",
   "metadata": {},
   "source": [
    "## Matplotlib"
   ]
  },
  {
   "cell_type": "code",
   "execution_count": null,
   "metadata": {},
   "outputs": [],
   "source": [
    "\n",
    "import matplotlib.pyplot as plt\n",
    "\n",
    "\n",
    "sizes = [30, 20, 25, 15, 10]\n",
    "labels = ['A', 'B', 'C', 'D', 'E']\n",
    "\n",
    "# pie chart\n",
    "plt.pie(sizes, labels=labels, autopct='%1.1f%%')\n",
    "plt.title('Pie Chart')\n",
    "plt.show()\n",
    "\n",
    "data = [1, 2, 2, 3, 3, 3, 4, 4, 5, 5, 5, 5, 6, 6]\n",
    "\n",
    "# histogram\n",
    "plt.hist(data, bins=6)  # bins define the number of intervals in the data\n",
    "plt.xlabel('Values')\n",
    "plt.ylabel('Frequency')\n",
    "plt.title('Histogram')\n",
    "plt.show()\n",
    "\n",
    "\n",
    "categories = ['A', 'B', 'C', 'D']\n",
    "values = [5, 10, 15, 20]\n",
    "\n",
    "# bar chart\n",
    "plt.bar(categories, values)\n",
    "plt.xlabel('Categories')\n",
    "plt.ylabel('Values')\n",
    "plt.title('Bar Chart')\n",
    "plt.show()\n",
    "\n",
    "\n",
    "x = [1, 2, 3, 4, 5]\n",
    "y = [2, 4, 6, 8, 10]\n",
    "\n",
    "# scatter plot\n",
    "plt.scatter(x, y)\n",
    "plt.xlabel('X-axis label')\n",
    "plt.ylabel('Y-axis label')\n",
    "plt.title('Scatter Plot')\n",
    "plt.show()\n",
    "\n",
    "\n",
    "x = [1, 2, 3, 4, 5]\n",
    "y = [2, 4, 6, 8, 10]\n",
    "\n",
    "# line plot\n",
    "plt.plot(x, y)\n",
    "plt.xlabel('X-axis label')\n",
    "plt.ylabel('Y-axis label')\n",
    "plt.title('Line Plot')\n",
    "plt.show()\n"
   ]
  }
 ],
 "metadata": {
  "kernelspec": {
   "display_name": "Python 3",
   "language": "python",
   "name": "python3"
  },
  "language_info": {
   "codemirror_mode": {
    "name": "ipython",
    "version": 3
   },
   "file_extension": ".py",
   "mimetype": "text/x-python",
   "name": "python",
   "nbconvert_exporter": "python",
   "pygments_lexer": "ipython3",
   "version": "3.10.8"
  }
 },
 "nbformat": 4,
 "nbformat_minor": 2
}

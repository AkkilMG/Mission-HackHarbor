{
 "cells": [
  {
   "cell_type": "code",
   "execution_count": 2,
   "metadata": {},
   "outputs": [
    {
     "name": "stdout",
     "output_type": "stream",
     "text": [
      "Collecting yt-dlp\n",
      "  Downloading yt_dlp-2023.11.16-py2.py3-none-any.whl.metadata (160 kB)\n",
      "\u001b[2K     \u001b[90m━━━━━━━━━━━━━━━━━━━━━━━━━━━━━━━━━━━━━\u001b[0m \u001b[32m160.5/160.5 kB\u001b[0m \u001b[31m867.0 kB/s\u001b[0m eta \u001b[36m0:00:00\u001b[0ma \u001b[36m0:00:01\u001b[0m\n",
      "\u001b[?25hCollecting mutagen (from yt-dlp)\n",
      "  Downloading mutagen-1.47.0-py3-none-any.whl.metadata (1.7 kB)\n",
      "Collecting pycryptodomex (from yt-dlp)\n",
      "  Downloading pycryptodomex-3.19.0-cp35-abi3-manylinux_2_17_x86_64.manylinux2014_x86_64.whl.metadata (3.4 kB)\n",
      "Requirement already satisfied: websockets in /usr/local/python/3.10.8/lib/python3.10/site-packages (from yt-dlp) (12.0)\n",
      "Requirement already satisfied: certifi in /home/codespace/.local/lib/python3.10/site-packages (from yt-dlp) (2023.7.22)\n",
      "Requirement already satisfied: requests<3,>=2.31.0 in /home/codespace/.local/lib/python3.10/site-packages (from yt-dlp) (2.31.0)\n",
      "Requirement already satisfied: urllib3<3,>=1.26.17 in /home/codespace/.local/lib/python3.10/site-packages (from yt-dlp) (2.0.7)\n",
      "Collecting brotli (from yt-dlp)\n",
      "  Downloading Brotli-1.1.0-cp310-cp310-manylinux_2_5_x86_64.manylinux1_x86_64.manylinux_2_12_x86_64.manylinux2010_x86_64.whl.metadata (5.5 kB)\n",
      "Requirement already satisfied: charset-normalizer<4,>=2 in /home/codespace/.local/lib/python3.10/site-packages (from requests<3,>=2.31.0->yt-dlp) (3.3.2)\n",
      "Requirement already satisfied: idna<4,>=2.5 in /home/codespace/.local/lib/python3.10/site-packages (from requests<3,>=2.31.0->yt-dlp) (3.4)\n",
      "Downloading yt_dlp-2023.11.16-py2.py3-none-any.whl (3.1 MB)\n",
      "\u001b[2K   \u001b[90m━━━━━━━━━━━━━━━━━━━━━━━━━━━━━━━━━━━━━━━━\u001b[0m \u001b[32m3.1/3.1 MB\u001b[0m \u001b[31m10.1 MB/s\u001b[0m eta \u001b[36m0:00:00\u001b[0m00:01\u001b[0m00:01\u001b[0m\n",
      "\u001b[?25hDownloading Brotli-1.1.0-cp310-cp310-manylinux_2_5_x86_64.manylinux1_x86_64.manylinux_2_12_x86_64.manylinux2010_x86_64.whl (3.0 MB)\n",
      "\u001b[2K   \u001b[90m━━━━━━━━━━━━━━━━━━━━━━━━━━━━━━━━━━━━━━━━\u001b[0m \u001b[32m3.0/3.0 MB\u001b[0m \u001b[31m37.9 MB/s\u001b[0m eta \u001b[36m0:00:00\u001b[0m:00:01\u001b[0m\n",
      "\u001b[?25hDownloading mutagen-1.47.0-py3-none-any.whl (194 kB)\n",
      "\u001b[2K   \u001b[90m━━━━━━━━━━━━━━━━━━━━━━━━━━━━━━━━━━━━━━━━\u001b[0m \u001b[32m194.4/194.4 kB\u001b[0m \u001b[31m4.5 MB/s\u001b[0m eta \u001b[36m0:00:00\u001b[0mta \u001b[36m0:00:01\u001b[0m\n",
      "\u001b[?25hDownloading pycryptodomex-3.19.0-cp35-abi3-manylinux_2_17_x86_64.manylinux2014_x86_64.whl (2.1 MB)\n",
      "\u001b[2K   \u001b[90m━━━━━━━━━━━━━━━━━━━━━━━━━━━━━━━━━━━━━━━━\u001b[0m \u001b[32m2.1/2.1 MB\u001b[0m \u001b[31m27.9 MB/s\u001b[0m eta \u001b[36m0:00:00\u001b[0m:00:01\u001b[0m\n",
      "\u001b[?25hInstalling collected packages: brotli, pycryptodomex, mutagen, yt-dlp\n",
      "Successfully installed brotli-1.1.0 mutagen-1.47.0 pycryptodomex-3.19.0 yt-dlp-2023.11.16\n"
     ]
    }
   ],
   "source": [
    "!pip install yt-dlp"
   ]
  },
  {
   "cell_type": "code",
   "execution_count": 3,
   "metadata": {},
   "outputs": [
    {
     "name": "stdout",
     "output_type": "stream",
     "text": [
      "Available Resolutions:\n",
      "[youtube] Extracting URL: https://www.youtube.com/watch?v=XAiMWuvuG8c\n",
      "[youtube] XAiMWuvuG8c: Downloading webpage\n",
      "[youtube] XAiMWuvuG8c: Downloading ios player API JSON\n",
      "[youtube] XAiMWuvuG8c: Downloading android player API JSON\n",
      "[youtube] XAiMWuvuG8c: Downloading m3u8 information\n",
      "[info] Available formats for XAiMWuvuG8c:\n",
      "ID  EXT   RESOLUTION FPS CH |   FILESIZE   TBR PROTO | VCODEC          VBR ACODEC      ABR ASR MORE INFO\n",
      "-----------------------------------------------------------------------------------------------------------------------\n",
      "sb3 mhtml 48x27        0    |                  mhtml | images                                  storyboard\n",
      "sb2 mhtml 80x45        0    |                  mhtml | images                                  storyboard\n",
      "sb1 mhtml 160x90       0    |                  mhtml | images                                  storyboard\n",
      "sb0 mhtml 320x180      0    |                  mhtml | images                                  storyboard\n",
      "233 mp4   audio only        |                  m3u8  | audio only          unknown             [hi] Default\n",
      "234 mp4   audio only        |                  m3u8  | audio only          unknown             [hi] Default\n",
      "599 m4a   audio only      2 |    5.14MiB   31k https | audio only          mp4a.40.5   31k 22k [hi] ultralow, m4a_dash\n",
      "600 webm  audio only      2 |    5.62MiB   34k https | audio only          opus        34k 48k [hi] ultralow, webm_dash\n",
      "139 m4a   audio only      2 |    8.15MiB   49k https | audio only          mp4a.40.5   49k 22k [hi] low, m4a_dash\n",
      "249 webm  audio only      2 |    8.22MiB   49k https | audio only          opus        49k 48k [hi] low, webm_dash\n",
      "250 webm  audio only      2 |   10.10MiB   60k https | audio only          opus        60k 48k [hi] low, webm_dash\n",
      "140 m4a   audio only      2 |   21.63MiB  129k https | audio only          mp4a.40.2  129k 44k [hi] medium, m4a_dash\n",
      "251 webm  audio only      2 |   17.83MiB  107k https | audio only          opus       107k 48k [hi] medium, webm_dash\n",
      "17  3gp   176x144      6  1 |   12.82MiB   77k https | mp4v.20.3           mp4a.40.2       22k [hi] 144p\n",
      "597 mp4   256x144     13    |    5.53MiB   33k https | avc1.4d400b     33k video only          144p, mp4_dash\n",
      "602 mp4   256x144     13    | ~ 15.68MiB   92k m3u8  | vp09.00.10.08   92k video only\n",
      "598 webm  256x144     13    |    4.71MiB   28k https | vp9             28k video only          144p, webm_dash\n",
      "269 mp4   256x144     25    | ~ 29.01MiB  170k m3u8  | avc1.4D400C    170k video only\n",
      "160 mp4   256x144     25    |   10.86MiB   65k https | avc1.4D400C     65k video only          144p, mp4_dash\n",
      "603 mp4   256x144     25    | ~ 28.60MiB  167k m3u8  | vp09.00.11.08  167k video only\n",
      "278 webm  256x144     25    |   12.24MiB   73k https | vp09.00.11.08   73k video only          144p, webm_dash\n",
      "229 mp4   426x240     25    | ~ 53.09MiB  310k m3u8  | avc1.4D4015    310k video only\n",
      "133 mp4   426x240     25    |   24.28MiB  145k https | avc1.4D4015    145k video only          240p, mp4_dash\n",
      "604 mp4   426x240     25    | ~ 49.70MiB  291k m3u8  | vp09.00.20.08  291k video only\n",
      "242 webm  426x240     25    |   22.78MiB  136k https | vp09.00.20.08  136k video only          240p, webm_dash\n",
      "230 mp4   640x360     25    | ~137.14MiB  802k m3u8  | avc1.4D401E    802k video only\n",
      "134 mp4   640x360     25    |   46.55MiB  279k https | avc1.4D401E    279k video only          360p, mp4_dash\n",
      "18  mp4   640x360     25  2 | ≈ 69.74MiB  408k https | avc1.42001E         mp4a.40.2       44k [hi] 360p\n",
      "605 mp4   640x360     25    | ~113.76MiB  665k m3u8  | vp09.00.21.08  665k video only\n",
      "243 webm  640x360     25    |   57.98MiB  347k https | vp09.00.21.08  347k video only          360p, webm_dash\n",
      "231 mp4   854x480     25    | ~202.38MiB 1183k m3u8  | avc1.4D401E   1183k video only\n",
      "135 mp4   854x480     25    |   74.57MiB  446k https | avc1.4D401E    446k video only          480p, mp4_dash\n",
      "606 mp4   854x480     25    | ~188.06MiB 1100k m3u8  | vp09.00.30.08 1100k video only\n",
      "244 webm  854x480     25    |   76.34MiB  457k https | vp09.00.30.08  457k video only          480p, webm_dash\n",
      "22  mp4   1280x720    25  2 | ≈161.64MiB  945k https | avc1.64001F         mp4a.40.2       44k [hi] 720p\n",
      "232 mp4   1280x720    25    | ~268.89MiB 1572k m3u8  | avc1.4D401F   1572k video only\n",
      "136 mp4   1280x720    25    |  136.33MiB  816k https | avc1.4D401F    816k video only          720p, mp4_dash\n",
      "609 mp4   1280x720    25    | ~351.74MiB 2057k m3u8  | vp09.00.31.08 2057k video only\n",
      "247 webm  1280x720    25    |  140.62MiB  842k https | vp09.00.31.08  842k video only          720p, webm_dash\n",
      "270 mp4   1920x1080   25    | ~803.12MiB 4696k m3u8  | avc1.640028   4696k video only\n",
      "137 mp4   1920x1080   25    |  438.80MiB 2627k https | avc1.640028   2627k video only          1080p, mp4_dash\n",
      "614 mp4   1920x1080   25    | ~594.86MiB 3478k m3u8  | vp09.00.40.08 3478k video only\n",
      "248 webm  1920x1080   25    |  256.47MiB 1535k https | vp09.00.40.08 1535k video only          1080p, webm_dash\n",
      "\n",
      "[youtube] Extracting URL: https://www.youtube.com/watch?v=XAiMWuvuG8c\n",
      "[youtube] XAiMWuvuG8c: Downloading webpage\n",
      "[youtube] XAiMWuvuG8c: Downloading ios player API JSON\n",
      "[youtube] XAiMWuvuG8c: Downloading android player API JSON\n",
      "[youtube] XAiMWuvuG8c: Downloading m3u8 information\n",
      "[info] XAiMWuvuG8c: Downloading 1 format(s): 602\n",
      "[hlsnative] Downloading m3u8 manifest\n",
      "[hlsnative] Total fragments: 259\n",
      "[download] Destination: ഷെഫ് റിസ്‍വാന്‍ !!! M80 Moosa ｜ MediaOne ｜ Vinod Kovoor ｜ Surabhi [XAiMWuvuG8c].mp4\n",
      "[download] 100% of    4.76MiB in 00:00:04 at 1.14MiB/s                    \n",
      "Download complete!\n"
     ]
    },
    {
     "name": "stderr",
     "output_type": "stream",
     "text": [
      "WARNING: XAiMWuvuG8c: Possible MPEG-TS in MP4 container or malformed AAC timestamps. Install ffmpeg to fix this automatically\n"
     ]
    }
   ],
   "source": [
    "import subprocess\n",
    "\n",
    "def get_available_resolutions(url):\n",
    "    try:\n",
    "        command = f\"yt-dlp -F {url}\"\n",
    "        output = subprocess.check_output(command, shell=True, text=True)\n",
    "        print(\"Available Resolutions:\")\n",
    "        print(output)\n",
    "    except subprocess.CalledProcessError as e:\n",
    "        print(\"Error:\", e)\n",
    "\n",
    "def download_video(url, resolution_code):\n",
    "    try:\n",
    "        command = f\"yt-dlp -f {resolution_code} {url}\"\n",
    "        subprocess.run(command, shell=True)\n",
    "        print(\"Download complete!\")\n",
    "    except subprocess.CalledProcessError as e:\n",
    "        print(\"Error:\", e)\n",
    "\n",
    "video_url = input(\"Enter the yt: \")\n",
    "get_available_resolutions(video_url)\n",
    "desired_resolution_code = input(\"Enter the desired resolution code to download: \")\n",
    "download_video(video_url, desired_resolution_code)"
   ]
  }
 ],
 "metadata": {
  "kernelspec": {
   "display_name": "Python 3",
   "language": "python",
   "name": "python3"
  },
  "language_info": {
   "codemirror_mode": {
    "name": "ipython",
    "version": 3
   },
   "file_extension": ".py",
   "mimetype": "text/x-python",
   "name": "python",
   "nbconvert_exporter": "python",
   "pygments_lexer": "ipython3",
   "version": "3.10.8"
  }
 },
 "nbformat": 4,
 "nbformat_minor": 2
}

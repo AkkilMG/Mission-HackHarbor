{
 "cells": [
  {
   "cell_type": "markdown",
   "metadata": {},
   "source": [
    "# Mini Project 1"
   ]
  },
  {
   "cell_type": "markdown",
   "metadata": {},
   "source": [
    "## Password generator"
   ]
  },
  {
   "cell_type": "code",
   "execution_count": 2,
   "metadata": {},
   "outputs": [
    {
     "name": "stdout",
     "output_type": "stream",
     "text": [
      "Generated password: (k#Q]XpG|+>u\tTime taken: -2.288818359375e-05\n"
     ]
    }
   ],
   "source": [
    "import random, string, time\n",
    "\n",
    "def generate_password(length: int) -> (string, int):\n",
    "    start_time = time.time()\n",
    "    characters = string.ascii_letters + string.digits + string.punctuation\n",
    "    password = ''.join(random.choice(characters) for _ in range(length))\n",
    "    end_time = time.time()\n",
    "    return password, end_time-start_time\n",
    "\n",
    "value, tm = generate_password(int(input(\"Enter the length: \")))\n",
    "print(f'Generated password: {value}\\tTime taken: {tm}')\n"
   ]
  },
  {
   "cell_type": "markdown",
   "metadata": {},
   "source": [
    "## Complex Password generator"
   ]
  },
  {
   "cell_type": "code",
   "execution_count": null,
   "metadata": {},
   "outputs": [],
   "source": [
    "import random, string, time\n",
    "\n",
    "def generate_password(length=12, use_uppercase=True, use_digits=True, use_symbols=True):\n",
    "    characters = string.ascii_letters if use_uppercase else string.ascii_lowercase\n",
    "    characters += string.digits if use_digits else ''\n",
    "    characters += string.punctuation if use_symbols else ''\n",
    "\n",
    "    if not characters:\n",
    "        return \"Error: No character set selected.\"\n",
    "\n",
    "    password = ''.join(random.choice(characters) for _ in range(length))\n",
    "    return password\n",
    "\n",
    "def get_user_preferences():\n",
    "    print(\"Password Generator Preferences:\")\n",
    "    length = int(input(\"Enter the desired password length: \"))\n",
    "    use_uppercase = input(\"Include uppercase letters? (y/n): \").lower() == 'y'\n",
    "    use_digits = input(\"Include digits? (y/n): \").lower() == 'y'\n",
    "    use_symbols = input(\"Include symbols? (y/n): \").lower() == 'y'\n",
    "    return length, use_uppercase, use_digits, use_symbols\n",
    "\n",
    "def save_password_to_file(password, filename='passwords.txt'):\n",
    "    with open(filename, 'a') as file:\n",
    "        file.write(password + '\\n')\n",
    "\n",
    "def main():\n",
    "    start_time = time.time()\n",
    "    length, use_uppercase, use_digits, use_symbols = get_user_preferences()\n",
    "    end_time = time.time()\n",
    "    print(f'Prederence Time taken: {end_time-start_time}')\n",
    "    num_passwords = int(input(\"Enter the number of passwords to generate: \"))\n",
    "    save_to_file = input(\"Save passwords to a file? (y/n): \").lower() == 'y'\n",
    "\n",
    "    for _ in range(num_passwords):\n",
    "        password = generate_password(length, use_uppercase, use_digits, use_symbols)\n",
    "        end_time = time.time()\n",
    "        print(f\"Generated Password: {password}\\tTime taken: {end_time-start_time}\")\n",
    "        if save_to_file:\n",
    "            save_password_to_file(password)\n",
    "            end_time = time.time()\n",
    "            print(f'Saving password Time taken: {end_time-start_time}')\n",
    "    end_time = time.time()\n",
    "    print(f'End Time taken: {end_time-start_time}')\n",
    "\n",
    "if __name__ == \"__main__\":\n",
    "    main()"
   ]
  }
 ],
 "metadata": {
  "kernelspec": {
   "display_name": "Python 3",
   "language": "python",
   "name": "python3"
  },
  "language_info": {
   "codemirror_mode": {
    "name": "ipython",
    "version": 3
   },
   "file_extension": ".py",
   "mimetype": "text/x-python",
   "name": "python",
   "nbconvert_exporter": "python",
   "pygments_lexer": "ipython3",
   "version": "3.10.8"
  }
 },
 "nbformat": 4,
 "nbformat_minor": 2
}

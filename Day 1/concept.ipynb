{
 "cells": [
  {
   "cell_type": "markdown",
   "metadata": {},
   "source": [
    "# Concepts\n",
    "\n",
    "If you find any ! or %, then its a cmd you need to run."
   ]
  },
  {
   "cell_type": "markdown",
   "metadata": {},
   "source": [
    "## Colab\n",
    "\n",
    "- **[Colab](https://colab.google/)**"
   ]
  },
  {
   "cell_type": "markdown",
   "metadata": {},
   "source": [
    "## String Functions"
   ]
  },
  {
   "cell_type": "code",
   "execution_count": 9,
   "metadata": {},
   "outputs": [
    {
     "name": "stdout",
     "output_type": "stream",
     "text": [
      "Name:  Akkil M G, Age: 20\n",
      "Name:  Akkil M G, Age: 20\n",
      "Name:  Akkil M G, Age: 20\n",
      "Length: 10\n",
      "Lower case:  akkil m g\n",
      "Upper case:  AKKIL M G\n",
      "Without whitespace stripped: Akkil M G\n",
      "Split: ['Akkil', 'M', 'G']\n"
     ]
    }
   ],
   "source": [
    "name, age = ' Akkil M G', 20\n",
    "\n",
    "print('Name: %s, Age: %d' % (name, age))\n",
    "print('Name: {}, Age: {}'.format(name, age))\n",
    "print(f'Name: {name}, Age: {age}') \n",
    "\n",
    "print(f'Length: {len(name)}')\n",
    "print(f'Lower case: {name.lower()}')\n",
    "print(f'Upper case: {name.upper()}')\n",
    "print(f'Without whitespace stripped: {name.strip()}')\n",
    "print(f'Split: {name.split()}')"
   ]
  },
  {
   "cell_type": "markdown",
   "metadata": {},
   "source": [
    "## Data Types\n",
    "\n",
    "Type (keyword)\n",
    "- String (str): There is no character.\n",
    "- integer (int)\n",
    "- float (float)\n",
    "- boolean (bool)\n",
    "- complex (complex)\n",
    "- list (list)\n",
    "- tuple (tuple)\n",
    "- set (set)\n",
    "- dict (dict)\n",
    "- range (range)\n",
    "- frozenset (frozenset)\n",
    "- bytes (bytes)\n",
    "- bytearray (bytearray)\n",
    "- memoryview (memoryview)"
   ]
  },
  {
   "cell_type": "code",
   "execution_count": 8,
   "metadata": {},
   "outputs": [
    {
     "name": "stdout",
     "output_type": "stream",
     "text": [
      "String: Hello World\n",
      "Integer: 20\n",
      "Float: 20.5\n",
      "Complex: 1j\n",
      "Range: range(0, 6)\n",
      "FrozenSet: frozenset({'cherry', 'banana', 'apple'})\n",
      "Boolean: True\n",
      "Bytes: b'\\x00\\x00\\x00\\x00\\x00'\n",
      "Bytearray: bytearray(b'\\x00\\x00\\x00\\x00\\x00')\n",
      "Memoryview: <memory at 0x7f080070d600>\n"
     ]
    }
   ],
   "source": [
    "a = str(\"Hello World\")\n",
    "b = int(20)\n",
    "c = float(20.5)\t\n",
    "d = complex(1j)\n",
    "i = range(6) # Generate an array\n",
    "j = frozenset((\"apple\", \"banana\", \"cherry\"))\t\n",
    "k = bool(5)\t\n",
    "l = bytes(5)\t\n",
    "m = bytearray(5)\t\n",
    "n = memoryview(bytes(5))\n",
    "\n",
    "print(f\"String: {a}\")\n",
    "print(f\"Integer: {b}\")\n",
    "print(f\"Float: {c}\")\n",
    "print(f\"Complex: {d}\")\n",
    "print(f\"Range: {i}\")\n",
    "print(f\"FrozenSet: {j}\")\n",
    "print(f\"Boolean: {k}\")\n",
    "print(f\"Bytes: {l}\")\n",
    "print(f\"Bytearray: {m}\")\n",
    "print(f\"Memoryview: {n}\")"
   ]
  },
  {
   "cell_type": "markdown",
   "metadata": {},
   "source": [
    "### Slicing & Indexing"
   ]
  },
  {
   "cell_type": "code",
   "execution_count": null,
   "metadata": {},
   "outputs": [],
   "source": [
    "s = 'Hello'\n",
    "print(s[0])\n",
    "print(len(s))\n",
    "print(s.index('e'))"
   ]
  },
  {
   "cell_type": "markdown",
   "metadata": {},
   "source": [
    "### Special data type"
   ]
  },
  {
   "cell_type": "code",
   "execution_count": 7,
   "metadata": {},
   "outputs": [
    {
     "name": "stdout",
     "output_type": "stream",
     "text": [
      "List: ['apple', 'banana', 'cherry']\n",
      "Tuple: ('apple', 'banana', 'cherry')\n",
      "Dictionary: {'name': 'John', 'age': 36}\n",
      "Set: {'cherry', 'banana', 'apple'}\n",
      "Updated List: ['apple', 'cherry', 'jackfruit']\n",
      "Slicing (t): ('apple', 'banana')\tAccessing (t): banana\tConcatenate: ('apple', 'banana', 'cherry', 'dragon', 'orange')\n",
      "Updated tuple: ('apple', 'banana', 'cherry')\n",
      "Accessing (d): John\n",
      "Updated Dictionary: {'name': 'John', 'degree': 'btech'}\tKeys: dict_keys(['name', 'degree'])\tValues: dict_values(['John', 'btech'])\tItems: dict_items([('name', 'John'), ('degree', 'btech')])\n",
      "Updated Set: {'jackfruit', 'banana', 'apple'}\n"
     ]
    }
   ],
   "source": [
    "\t\t\n",
    "e = list((\"apple\", \"banana\", \"cherry\")) # mutable\n",
    "f = tuple((\"apple\", \"banana\", \"cherry\")) # immutable\n",
    "g = dict(name=\"John\", age=36) # mutable\n",
    "h = set((\"apple\", \"banana\", \"cherry\")) # \n",
    "\n",
    "print(f\"List: {e}\")\n",
    "print(f\"Tuple: {f}\")\n",
    "print(f\"Dictionary: {g}\")\n",
    "print(f\"Set: {h}\")\n",
    "\n",
    "## Operations\n",
    "e.append('jackfruit')\n",
    "e.pop(1)\n",
    "print(f\"Updated List: {e}\")\n",
    "\n",
    "# Operations\n",
    "print(f\"Slicing (t): {f[0:2]}\\tAccessing (t): {f[1]}\\tConcatenate: {f+tuple(('dragon', 'orange'))}\")\n",
    "print(f\"Updated tuple: {f}\")\n",
    "\n",
    "print(f\"Accessing (d): {g['name']}\")\n",
    "g['degree'] = 'btech'\n",
    "del g['age']\n",
    "print(f\"Updated Dictionary: {g}\\tKeys: {g.keys()}\\tValues: {g.values()}\\tItems: {g.items()}\")\n",
    "\n",
    "h.add('jackfruit')\n",
    "h.remove(\"cherry\")\n",
    "print(f\"Updated Set: {h}\")"
   ]
  },
  {
   "cell_type": "markdown",
   "metadata": {},
   "source": [
    "## Control Structures\n",
    "\n",
    "### Conditions\n",
    "\n",
    "- If...else\n",
    "- If...elif...else\n",
    "- One line if condition\n",
    "\n",
    "### Loops\n",
    "\n",
    "- For\n",
    "- One line for\n",
    "- While"
   ]
  },
  {
   "cell_type": "code",
   "execution_count": null,
   "metadata": {},
   "outputs": [],
   "source": [
    "# Condition\n",
    "x = 10\n",
    "if x > 10:\n",
    "    print(\"x is greater than 10\")\n",
    "elif x == 10:\n",
    "    print(\"x is equal to 10\")\n",
    "else:\n",
    "    print(\"x is less than 10\")\n",
    "\n",
    "print(\"Operators: \"+'even' if(x%2) else 'odd')\n",
    "\n",
    "# For loop\n",
    "my_list = [1, 2, 3, 4, 5]\n",
    "print(\"For Loop: \")\n",
    "for item in my_list:\n",
    "    print(f'{item}: {\"even\" if item%2 else \"odd\"}')\n",
    "\n",
    "# One line for\n",
    "[print(f'{item}: {\"even\" if item%2 else \"odd\"}') for item in my_list]\n",
    "\n",
    "# While loop\n",
    "x = 0\n",
    "print(\"While Loop: \")\n",
    "while x < 5:\n",
    "    print(x)\n",
    "    x += 1"
   ]
  },
  {
   "cell_type": "markdown",
   "metadata": {},
   "source": [
    "## Functions"
   ]
  },
  {
   "cell_type": "code",
   "execution_count": 1,
   "metadata": {},
   "outputs": [
    {
     "name": "stdout",
     "output_type": "stream",
     "text": [
      "Hello, Akkil M G!\n",
      "Total with Args: 30\n",
      "Recursive with func as parameter: 120\n",
      "[1, 2, 3, 4, 5] [1, 4, 9, 16, 25]\n"
     ]
    }
   ],
   "source": [
    "def greet(name):\n",
    "    print(f\"Hello, {name}!\")\n",
    "\n",
    "greet(\"Akkil M G\")\n",
    "\n",
    "def calculate_total(*args):\n",
    "    total = sum(args)\n",
    "    print(f\"Total with Args: {total}\")\n",
    "\n",
    "calculate_total(5, 10, 15) \n",
    "\n",
    "def print_info(**kwargs):\n",
    "    print(\"Kwargs: \", end=\" \")\n",
    "    for key, value in kwargs.items():\n",
    "        print(f\"{key}: {value}\", end=\"\\t\")\n",
    "    print()\n",
    "\n",
    "def factorial(n):\n",
    "    if n == 0:\n",
    "        return 1\n",
    "    return n * factorial(n - 1)\n",
    "\n",
    "def fact(func, n):\n",
    "    print(f\"Recursive with func as parameter: {func(n)}\")\n",
    "\n",
    "fact(factorial, 5)\n",
    "\n",
    "def square(x):\n",
    "    return x ** 2\n",
    "\n",
    "numbers = [1, 2, 3, 4, 5]\n",
    "squared = list(map(square, numbers)) \n",
    "print(numbers, squared)"
   ]
  },
  {
   "cell_type": "markdown",
   "metadata": {},
   "source": [
    "## lambda"
   ]
  },
  {
   "cell_type": "code",
   "execution_count": 12,
   "metadata": {},
   "outputs": [
    {
     "name": "stdout",
     "output_type": "stream",
     "text": [
      "15\n"
     ]
    }
   ],
   "source": [
    "\n",
    "def multi(x,y):\n",
    "    print(f'Normal: {x*y}')\n",
    "\n",
    "multiply = lambda x, y: x * y\n",
    "print(f'Lambda: {multiply(5, 3)}')  \n",
    "\n"
   ]
  },
  {
   "cell_type": "markdown",
   "metadata": {},
   "source": [
    "## OOPS\n",
    "\n"
   ]
  },
  {
   "cell_type": "code",
   "execution_count": null,
   "metadata": {},
   "outputs": [],
   "source": []
  },
  {
   "cell_type": "markdown",
   "metadata": {},
   "source": [
    "## Modules"
   ]
  },
  {
   "cell_type": "code",
   "execution_count": null,
   "metadata": {},
   "outputs": [],
   "source": []
  },
  {
   "cell_type": "markdown",
   "metadata": {},
   "source": [
    "## Exception handling"
   ]
  },
  {
   "cell_type": "code",
   "execution_count": 6,
   "metadata": {},
   "outputs": [
    {
     "name": "stdout",
     "output_type": "stream",
     "text": [
      "Custom error occurred: If numerator is zero then result will be infinite\n",
      "All are done.\n"
     ]
    }
   ],
   "source": [
    "# Custom handler\n",
    "\n",
    "class Infinite(Exception):\n",
    "    def __init__(self, message=\"An error occurred\"):\n",
    "        self.message = message\n",
    "        super().__init__(self.message)\n",
    "\n",
    "try:\n",
    "    a = int(input(\"Enter the value\"))\n",
    "    b = int(input(\"Enter the value\"))\n",
    "    if int(a)==0:\n",
    "        raise Infinite(\"If numerator is zero then result will be infinite.\")\n",
    "except Infinite as e:\n",
    "    print(f\"Custom error occurred: {e.message}\")\n",
    "except ZeroDivisionError as zd:\n",
    "    print(zd)\n",
    "except Exception as e:\n",
    "    print(e)\n",
    "finally:\n",
    "    print(\"All are done.\")"
   ]
  },
  {
   "cell_type": "markdown",
   "metadata": {},
   "source": [
    "## File handling"
   ]
  },
  {
   "cell_type": "code",
   "execution_count": null,
   "metadata": {},
   "outputs": [],
   "source": [
    "# Reading from a file\n",
    "with open('file.txt', 'r') as file:\n",
    "    content = file.read()\n",
    "\n",
    "# Writing to a file\n",
    "with open('output.txt', 'w') as file:\n",
    "    file.write('Hello, World!')"
   ]
  },
  {
   "cell_type": "markdown",
   "metadata": {},
   "source": [
    "## Decorator"
   ]
  },
  {
   "cell_type": "code",
   "execution_count": 8,
   "metadata": {},
   "outputs": [
    {
     "name": "stdout",
     "output_type": "stream",
     "text": [
      "Function executed\n",
      "Execution time of some_function: 2.0010828971862793 seconds\n"
     ]
    }
   ],
   "source": [
    "import time\n",
    "\n",
    "# Decorator function to measure execution time\n",
    "def calculate_time(func):\n",
    "    def wrapper(*args, **kwargs):\n",
    "        start_time = time.time()\n",
    "        result = func(*args, **kwargs)\n",
    "        end_time = time.time()\n",
    "        print(f\"Execution time of {func.__name__}: {end_time - start_time} seconds\")\n",
    "        return result\n",
    "    return wrapper\n",
    "\n",
    "# Applying the decorator to a function\n",
    "@calculate_time\n",
    "def some_function():\n",
    "    time.sleep(2)\n",
    "    print(\"Function executed\")\n",
    "\n",
    "some_function()\n"
   ]
  },
  {
   "cell_type": "markdown",
   "metadata": {},
   "source": [
    "## Operators"
   ]
  },
  {
   "cell_type": "code",
   "execution_count": null,
   "metadata": {},
   "outputs": [],
   "source": []
  },
  {
   "cell_type": "markdown",
   "metadata": {},
   "source": [
    "## Virtual Environments"
   ]
  },
  {
   "cell_type": "code",
   "execution_count": null,
   "metadata": {},
   "outputs": [],
   "source": []
  },
  {
   "cell_type": "markdown",
   "metadata": {},
   "source": [
    "## Keyword"
   ]
  },
  {
   "cell_type": "code",
   "execution_count": null,
   "metadata": {},
   "outputs": [],
   "source": []
  }
 ],
 "metadata": {
  "kernelspec": {
   "display_name": "Python 3",
   "language": "python",
   "name": "python3"
  },
  "language_info": {
   "codemirror_mode": {
    "name": "ipython",
    "version": 3
   },
   "file_extension": ".py",
   "mimetype": "text/x-python",
   "name": "python",
   "nbconvert_exporter": "python",
   "pygments_lexer": "ipython3",
   "version": "3.10.8"
  }
 },
 "nbformat": 4,
 "nbformat_minor": 2
}

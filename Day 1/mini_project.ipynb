{
 "cells": [
  {
   "cell_type": "markdown",
   "metadata": {},
   "source": [
    "# Mini Project 1"
   ]
  },
  {
   "cell_type": "markdown",
   "metadata": {},
   "source": [
    "## Password generator"
   ]
  },
  {
   "cell_type": "code",
   "execution_count": null,
   "metadata": {},
   "outputs": [],
   "source": [
    "import random, string, time\n",
    "\n",
    "def generate_password(length: int) -> string:\n",
    "    characters = string.ascii_letters + string.digits + string.punctuation\n",
    "    password = ''.join(random.choice(characters) for _ in range(length))\n",
    "    return password\n",
    "\n",
    "start_time = time.time()\n",
    "value: str = generate_password(int(input(\"Enter the length: \")))\n",
    "end_time = time.time()\n",
    "print(f'Generated password: {value}\\tTime taken: {start_time-end_time}')\n"
   ]
  },
  {
   "cell_type": "markdown",
   "metadata": {},
   "source": [
    "## Complex Password generator"
   ]
  },
  {
   "cell_type": "code",
   "execution_count": null,
   "metadata": {},
   "outputs": [],
   "source": [
    "import random, string, time\n",
    "\n",
    "def generate_password(length=12, use_uppercase=True, use_digits=True, use_symbols=True):\n",
    "    characters = string.ascii_letters if use_uppercase else string.ascii_lowercase\n",
    "    characters += string.digits if use_digits else ''\n",
    "    characters += string.punctuation if use_symbols else ''\n",
    "\n",
    "    if not characters:\n",
    "        return \"Error: No character set selected.\"\n",
    "\n",
    "    password = ''.join(random.choice(characters) for _ in range(length))\n",
    "    return password\n",
    "\n",
    "def get_user_preferences():\n",
    "    print(\"Password Generator Preferences:\")\n",
    "    length = int(input(\"Enter the desired password length: \"))\n",
    "    use_uppercase = input(\"Include uppercase letters? (y/n): \").lower() == 'y'\n",
    "    use_digits = input(\"Include digits? (y/n): \").lower() == 'y'\n",
    "    use_symbols = input(\"Include symbols? (y/n): \").lower() == 'y'\n",
    "    return length, use_uppercase, use_digits, use_symbols\n",
    "\n",
    "def save_password_to_file(password, filename='passwords.txt'):\n",
    "    with open(filename, 'a') as file:\n",
    "        file.write(password + '\\n')\n",
    "\n",
    "def main():\n",
    "    start_time = time.time()\n",
    "    length, use_uppercase, use_digits, use_symbols = get_user_preferences()\n",
    "    print(f'Prederence Time taken: {start_time-end_time}')\n",
    "    num_passwords = int(input(\"Enter the number of passwords to generate: \"))\n",
    "    save_to_file = input(\"Save passwords to a file? (y/n): \").lower() == 'y'\n",
    "\n",
    "    for _ in range(num_passwords):\n",
    "        password = generate_password(length, use_uppercase, use_digits, use_symbols)\n",
    "        print(f\"Generated Password: {password}\\tTime taken: {start_time-end_time}\")\n",
    "        if save_to_file:\n",
    "            save_password_to_file(password)\n",
    "            print(f'Saving password Time taken: {start_time-end_time}')\n",
    "    print(f'End Time taken: {start_time-end_time}')\n",
    "\n",
    "if __name__ == \"__main__\":\n",
    "    main()"
   ]
  }
 ],
 "metadata": {
  "language_info": {
   "name": "python"
  }
 },
 "nbformat": 4,
 "nbformat_minor": 2
}
